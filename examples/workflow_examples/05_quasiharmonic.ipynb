{
 "cells": [
  {
   "cell_type": "code",
   "execution_count": 1,
   "id": "13bfd2b5-a74f-4db1-9122-bdb1c6a289a0",
   "metadata": {},
   "outputs": [],
   "source": [
    "%config IPCompleter.evaluation='unsafe'"
   ]
  },
  {
   "cell_type": "code",
   "execution_count": 2,
   "id": "ab42358e-f6c8-4012-964e-935999ee0a27",
   "metadata": {},
   "outputs": [
    {
     "data": {
      "application/vnd.jupyter.widget-view+json": {
       "model_id": "9c3839bae18c4496b27bf50f509e5d77",
       "version_major": 2,
       "version_minor": 0
      },
      "text/plain": []
     },
     "metadata": {},
     "output_type": "display_data"
    }
   ],
   "source": [
    "from pyiron_atomistics import Project\n",
    "import numpy as np\n",
    "import matplotlib.pyplot as plt\n",
    "from atomrdf import KnowledgeGraph, System"
   ]
  },
  {
   "cell_type": "code",
   "execution_count": 3,
   "id": "09e084dc-a882-485b-81cd-7e67b6459353",
   "metadata": {},
   "outputs": [],
   "source": [
    "project = 'wf_05'\n",
    "pr = Project(project)\n",
    "kg = KnowledgeGraph(store='db', store_file=f'{project}.db')\n",
    "kg.enable_workflow(pr, workflow_environment='pyiron')"
   ]
  },
  {
   "cell_type": "code",
   "execution_count": 4,
   "id": "c29a2e0b-9808-4fe9-b3ef-a459954a36f0",
   "metadata": {},
   "outputs": [],
   "source": [
    "struct = pr.create.structure.annotated_structure.bulk('Cu')"
   ]
  },
  {
   "cell_type": "code",
   "execution_count": 5,
   "id": "d09f3f9b-85fb-4cb1-86ae-e082d81909f9",
   "metadata": {},
   "outputs": [],
   "source": [
    "refjob = pr.create.job.Lammps('reflmp')\n",
    "refjob.structure = struct\n",
    "refjob.potential = '2009--Mendelev-M-I--Cu-Zr--LAMMPS--ipr1'"
   ]
  },
  {
   "cell_type": "code",
   "execution_count": 6,
   "id": "206c8e96-72fb-4779-a2b8-945e3c4f70c7",
   "metadata": {},
   "outputs": [],
   "source": [
    "phono = pr.create.job.PhonopyJob('phono')\n",
    "phono.ref_job = refjob"
   ]
  },
  {
   "cell_type": "code",
   "execution_count": 7,
   "id": "3d855baf-720d-45d7-92c0-89b248c58357",
   "metadata": {},
   "outputs": [],
   "source": [
    "quasi = pr.create.job.QuasiHarmonicJob('quasi')\n",
    "quasi.ref_job = phono"
   ]
  },
  {
   "cell_type": "code",
   "execution_count": 8,
   "id": "a43dd040-9310-4964-9f38-143bd471cdeb",
   "metadata": {},
   "outputs": [],
   "source": [
    "quasi.input[\"temperature_end\"] = 500\n",
    "quasi.input[\"temperature_steps\"] = 2\n",
    "quasi.input[\"axes\"]=[\"x\",\"y\",\"z\"]\n",
    "quasi.input[\"strains\"] = None"
   ]
  },
  {
   "cell_type": "code",
   "execution_count": 9,
   "id": "2912b3be-bc45-430b-b65a-21504d261b28",
   "metadata": {},
   "outputs": [
    {
     "name": "stdout",
     "output_type": "stream",
     "text": [
      "The job quasi was saved and received the ID: 452\n",
      "The job quasi_0_9 was saved and received the ID: 453\n",
      "The job reflmp_0 was saved and received the ID: 454\n",
      "The job quasi_0_92 was saved and received the ID: 455\n",
      "The job reflmp_0 was saved and received the ID: 456\n",
      "The job quasi_0_94 was saved and received the ID: 457\n",
      "The job reflmp_0 was saved and received the ID: 458\n",
      "The job quasi_0_96 was saved and received the ID: 459\n",
      "The job reflmp_0 was saved and received the ID: 460\n",
      "The job quasi_0_98 was saved and received the ID: 461\n",
      "The job reflmp_0 was saved and received the ID: 462\n",
      "The job quasi_1_0 was saved and received the ID: 463\n",
      "The job reflmp_0 was saved and received the ID: 464\n",
      "The job quasi_1_02 was saved and received the ID: 465\n",
      "The job reflmp_0 was saved and received the ID: 466\n",
      "The job quasi_1_04 was saved and received the ID: 467\n",
      "The job reflmp_0 was saved and received the ID: 468\n",
      "The job quasi_1_06 was saved and received the ID: 469\n",
      "The job reflmp_0 was saved and received the ID: 470\n",
      "The job quasi_1_08 was saved and received the ID: 471\n",
      "The job reflmp_0 was saved and received the ID: 472\n",
      "The job quasi_1_1 was saved and received the ID: 473\n",
      "The job reflmp_0 was saved and received the ID: 474\n"
     ]
    }
   ],
   "source": [
    "quasi.run()"
   ]
  },
  {
   "cell_type": "code",
   "execution_count": 10,
   "id": "a14d721e-b54a-4aa5-8da3-966e39f47bdd",
   "metadata": {},
   "outputs": [
    {
     "name": "stderr",
     "output_type": "stream",
     "text": [
      "/home/srmnitc/miniconda3/envs/workflow-rdf/lib/python3.11/site-packages/atomrdf/graph.py:376: UserWarning: asmo:hasValue has a range with unspecified datatype!\n",
      "  warnings.warn(f\"{triple[1].name} has a range with unspecified datatype!\")\n"
     ]
    }
   ],
   "source": [
    "kg.add_workflow(quasi, workflow_environment='pyiron')"
   ]
  },
  {
   "cell_type": "code",
   "execution_count": 11,
   "id": "aee28015-0d13-404d-916a-7b1cbe6a641d",
   "metadata": {},
   "outputs": [
    {
     "data": {
      "image/svg+xml": [
       "<?xml version=\"1.0\" encoding=\"UTF-8\" standalone=\"no\"?>\n",
       "<!DOCTYPE svg PUBLIC \"-//W3C//DTD SVG 1.1//EN\"\n",
       " \"http://www.w3.org/Graphics/SVG/1.1/DTD/svg11.dtd\">\n",
       "<!-- Generated by graphviz version 9.0.0 (20231125.0833)\n",
       " -->\n",
       "<!-- Pages: 1 -->\n",
       "<svg width=\"474pt\" height=\"126pt\"\n",
       " viewBox=\"0.00 0.00 474.12 125.75\" xmlns=\"http://www.w3.org/2000/svg\" xmlns:xlink=\"http://www.w3.org/1999/xlink\">\n",
       "<g id=\"graph0\" class=\"graph\" transform=\"scale(1 1) rotate(0) translate(4 121.75)\">\n",
       "<polygon fill=\"white\" stroke=\"none\" points=\"-4,4 -4,-121.75 470.12,-121.75 470.12,4 -4,4\"/>\n",
       "<!-- sample_f2ab9fda&#45;9b7f&#45;4ab1&#45;814b&#45;2801884b34f8 -->\n",
       "<g id=\"node1\" class=\"node\">\n",
       "<title>sample_f2ab9fda&#45;9b7f&#45;4ab1&#45;814b&#45;2801884b34f8</title>\n",
       "<polygon fill=\"#d9d9d9\" stroke=\"#d9d9d9\" points=\"343.62,-36 123.62,-36 123.62,0 343.62,0 343.62,-36\"/>\n",
       "<text text-anchor=\"middle\" x=\"233.62\" y=\"-15.28\" font-family=\"Helvetica,sans-Serif\" font-size=\"8.00\">sample_f2ab9fda&#45;9b7f&#45;4ab1&#45;814b&#45;2801884b34f8</text>\n",
       "</g>\n",
       "<!-- sample_7fab9e8e&#45;0030&#45;4e49&#45;9d2e&#45;249401efda47 -->\n",
       "<g id=\"node2\" class=\"node\">\n",
       "<title>sample_7fab9e8e&#45;0030&#45;4e49&#45;9d2e&#45;249401efda47</title>\n",
       "<polygon fill=\"#d9d9d9\" stroke=\"#d9d9d9\" points=\"225.25,-117.75 0,-117.75 0,-81.75 225.25,-81.75 225.25,-117.75\"/>\n",
       "<text text-anchor=\"middle\" x=\"112.62\" y=\"-97.03\" font-family=\"Helvetica,sans-Serif\" font-size=\"8.00\">sample_7fab9e8e&#45;0030&#45;4e49&#45;9d2e&#45;249401efda47</text>\n",
       "</g>\n",
       "<!-- sample_f2ab9fda&#45;9b7f&#45;4ab1&#45;814b&#45;2801884b34f8&#45;&gt;sample_7fab9e8e&#45;0030&#45;4e49&#45;9d2e&#45;249401efda47 -->\n",
       "<g id=\"edge1\" class=\"edge\">\n",
       "<title>sample_f2ab9fda&#45;9b7f&#45;4ab1&#45;814b&#45;2801884b34f8&#45;&gt;sample_7fab9e8e&#45;0030&#45;4e49&#45;9d2e&#45;249401efda47</title>\n",
       "<path fill=\"none\" stroke=\"#263238\" d=\"M207.37,-36.3C190.09,-47.7 167.24,-62.75 148.32,-75.22\"/>\n",
       "<polygon fill=\"#263238\" stroke=\"#263238\" points=\"146.52,-72.22 140.09,-80.65 150.37,-78.07 146.52,-72.22\"/>\n",
       "<text text-anchor=\"middle\" x=\"214.38\" y=\"-56.15\" font-family=\"Helvetica,sans-Serif\" font-size=\"8.00\">wasDerivedFrom</text>\n",
       "</g>\n",
       "<!-- activity_0cfeedd5&#45;88f3&#45;4824&#45;b42b&#45;1e19c78b805a -->\n",
       "<g id=\"node3\" class=\"node\">\n",
       "<title>activity_0cfeedd5&#45;88f3&#45;4824&#45;b42b&#45;1e19c78b805a</title>\n",
       "<polygon fill=\"#d9d9d9\" stroke=\"#d9d9d9\" points=\"466.12,-117.75 243.12,-117.75 243.12,-81.75 466.12,-81.75 466.12,-117.75\"/>\n",
       "<text text-anchor=\"middle\" x=\"354.62\" y=\"-97.03\" font-family=\"Helvetica,sans-Serif\" font-size=\"8.00\">activity_0cfeedd5&#45;88f3&#45;4824&#45;b42b&#45;1e19c78b805a</text>\n",
       "</g>\n",
       "<!-- sample_f2ab9fda&#45;9b7f&#45;4ab1&#45;814b&#45;2801884b34f8&#45;&gt;activity_0cfeedd5&#45;88f3&#45;4824&#45;b42b&#45;1e19c78b805a -->\n",
       "<g id=\"edge2\" class=\"edge\">\n",
       "<title>sample_f2ab9fda&#45;9b7f&#45;4ab1&#45;814b&#45;2801884b34f8&#45;&gt;activity_0cfeedd5&#45;88f3&#45;4824&#45;b42b&#45;1e19c78b805a</title>\n",
       "<path fill=\"none\" stroke=\"#263238\" d=\"M259.88,-36.3C277.16,-47.7 300.01,-62.75 318.93,-75.22\"/>\n",
       "<polygon fill=\"#263238\" stroke=\"#263238\" points=\"316.88,-78.07 327.16,-80.65 320.73,-72.22 316.88,-78.07\"/>\n",
       "<text text-anchor=\"middle\" x=\"335.5\" y=\"-56.15\" font-family=\"Helvetica,sans-Serif\" font-size=\"8.00\">wasGeneratedBy</text>\n",
       "</g>\n",
       "</g>\n",
       "</svg>\n"
      ],
      "text/plain": [
       "<graphviz.graphs.Digraph at 0x7f8e423eded0>"
      ]
     },
     "execution_count": 11,
     "metadata": {},
     "output_type": "execute_result"
    }
   ],
   "source": [
    "kg.visualise(sample_view=True, layout='dot')"
   ]
  },
  {
   "cell_type": "code",
   "execution_count": 13,
   "id": "a24c7ef6-756c-4784-aaac-bf8b5be86217",
   "metadata": {},
   "outputs": [
    {
     "data": {
      "text/plain": [
       "[sample:7fab9e8e-0030-4e49-9d2e-249401efda47,\n",
       " sample:f2ab9fda-9b7f-4ab1-814b-2801884b34f8_from_sample:7fab9e8e-0030-4e49-9d2e-249401efda47]"
      ]
     },
     "execution_count": 13,
     "metadata": {},
     "output_type": "execute_result"
    }
   ],
   "source": [
    "kg.samples"
   ]
  },
  {
   "cell_type": "code",
   "execution_count": 14,
   "id": "e476efde-e714-48f9-a7ce-291b5f949356",
   "metadata": {},
   "outputs": [],
   "source": [
    "sample = kg.samples[-1]"
   ]
  },
  {
   "cell_type": "code",
   "execution_count": 15,
   "id": "66430c65",
   "metadata": {},
   "outputs": [
    {
     "data": {
      "text/plain": [
       "[  0. 500.] K"
      ]
     },
     "execution_count": 15,
     "metadata": {},
     "output_type": "execute_result"
    }
   ],
   "source": [
    "sample.outputs.QuasiHarmonicTemperature"
   ]
  },
  {
   "cell_type": "code",
   "execution_count": 19,
   "id": "d84dc4d9",
   "metadata": {},
   "outputs": [
    {
     "data": {
      "text/plain": [
       "Text(0, 0.5, 'Free Energy')"
      ]
     },
     "execution_count": 19,
     "metadata": {},
     "output_type": "execute_result"
    },
    {
     "data": {
      "image/png": "[encoded data removed]",
      "text/plain": [
       "<Figure size 640x480 with 1 Axes>"
      ]
     },
     "metadata": {},
     "output_type": "display_data"
    }
   ],
   "source": [
    "plt.plot(sample.outputs.QuasiHarmonicVolume.value[0], sample.outputs.QuasiHarmonicFreeEnergy.value[0])\n",
    "plt.xlabel('Volume')\n",
    "plt.ylabel('Free Energy')"
   ]
  }
 ],
 "metadata": {
  "kernelspec": {
   "display_name": "Python 3 (ipykernel)",
   "language": "python",
   "name": "python3"
  },
  "language_info": {
   "codemirror_mode": {
    "name": "ipython",
    "version": 3
   },
   "file_extension": ".py",
   "mimetype": "text/x-python",
   "name": "python",
   "nbconvert_exporter": "python",
   "pygments_lexer": "ipython3",
   "version": "3.11.10"
  }
 },
 "nbformat": 4,
 "nbformat_minor": 5
}
