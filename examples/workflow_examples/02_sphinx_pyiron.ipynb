{
 "cells": [
  {
   "cell_type": "code",
   "execution_count": 1,
   "metadata": {},
   "outputs": [
    {
     "data": {
      "application/vnd.jupyter.widget-view+json": {
       "model_id": "53f31ae574344412bbb17951e41ae675",
       "version_major": 2,
       "version_minor": 0
      },
      "text/plain": []
     },
     "metadata": {},
     "output_type": "display_data"
    }
   ],
   "source": [
    "from pyiron_atomistics import Project"
   ]
  },
  {
   "cell_type": "code",
   "execution_count": 2,
   "metadata": {},
   "outputs": [],
   "source": [
    "pr = Project(\"sphx1\")"
   ]
  },
  {
   "cell_type": "code",
   "execution_count": 5,
   "metadata": {},
   "outputs": [],
   "source": [
    "struct = pr.create.structure.ase.bulk(\"Fe\", cubic=True)"
   ]
  },
  {
   "cell_type": "code",
   "execution_count": 10,
   "metadata": {},
   "outputs": [
    {
     "name": "stdout",
     "output_type": "stream",
     "text": [
      "The job a1 was saved and received the ID: 141\n"
     ]
    }
   ],
   "source": [
    "job = pr.create.job.Sphinx('a1')\n",
    "job.structure = struct\n",
    "job.set_exchange_correlation_functional(\"PBE\")\n",
    "job.plane_wave_cutoff = 300\n",
    "k = int((2000/len(struct))**(1/3))\n",
    "job.set_kpoints(mesh=[k, k, k])\n",
    "job.set_occupancy_smearing(\"fermi\", 0.2)\n",
    "job.calc_minimize()\n",
    "job.run()"
   ]
  },
  {
   "cell_type": "code",
   "execution_count": 14,
   "metadata": {},
   "outputs": [
    {
     "data": {
      "text/plain": [
       "array([23.63990702, 23.63990702])"
      ]
     },
     "execution_count": 14,
     "metadata": {},
     "output_type": "execute_result"
    }
   ],
   "source": [
    "job.output.volume"
   ]
  },
  {
   "cell_type": "code",
   "execution_count": 13,
   "metadata": {},
   "outputs": [
    {
     "data": {
      "application/json": {
       "CheckOverlap": "True",
       "Ediff": "0.0001",
       "EmptyStates": "5",
       "EnCut": "300",
       "Estep": "100",
       "FermiDirac": "1",
       "Istep": "100",
       "KJxc": "False",
       "KpointCoords": "[0.5, 0.5, 0.5]",
       "KpointFolding": "[9, 9, 9]",
       "SaveMemory": "True",
       "Sigma": "0.2",
       "THREADS": "1",
       "VaspPot": "False",
       "WriteWaves": "True",
       "Xcorr": "'PBE'",
       "rhoMixing": "1.0",
       "rhoResidualScaling": "1.0",
       "sphinx": {
        "PAWHamiltonian": {
         "FermiDirac": "1",
         "ekt": "0.2",
         "nEmptyStates": "5",
         "spinPolarized": "False",
         "xc": "'PBE'"
        },
        "basis": {
         "eCut": "22.049593305392996",
         "folding": "array([9, 9, 9])",
         "kPoint": {
          "coords": "array([0.5, 0.5, 0.5])",
          "relative": "True",
          "weight": "1"
         },
         "saveMemory": "True"
        },
        "initialGuess": {
         "noWavesStorage": "False",
         "rho": {
          "atomicOrbitals": "True"
         },
         "waves": {
          "lcao": [],
          "pawBasis": "True"
         }
        },
        "main": {
         "ricQN": {
          "bornOppenheimer": {
           "scfDiag": {
            "blockCCG": [],
            "dEnergy": "3.674932217565499e-06",
            "maxSteps": "'100'",
            "preconditioner": {
             "scaling": "1.0",
             "spinScaling": "1.0",
             "type": "'KERKER'"
            },
            "rhoMixing": "'1.0'",
            "spinMixing": "'1.0'"
           }
          },
          "maxStepLength": "'0.18897261246257704'",
          "maxSteps": "'100'"
         }
        },
        "pawPot": {
         "species": [
          {
           "element": "'\"Fe\"'",
           "name": "'\"Fe\"'",
           "potType": "'\"AtomPAW\"'",
           "potential": "'\"Fe_GGA.atomicdata\"'"
          }
         ]
        },
        "structure": {
         "cell": "array([[5.42351398, 0.        , 0.        ],\n       [0.        , 5.42351398, 0.        ],\n       [0.        , 0.        , 5.42351398]])",
         "species": [
          {
           "atom": [
            {
             "coords": "array([0., 0., 0.])",
             "label": "'\"spin_0.0\"'",
             "movable": "True"
            },
            {
             "coords": "array([2.71175699, 2.71175699, 2.71175699])",
             "label": "'\"spin_0.0\"'",
             "movable": "True"
            }
           ],
           "element": "'\"Fe\"'"
          }
         ]
        }
       },
       "spinMixing": "1.0",
       "spinResidualScaling": "1.0",
       "use_on_the_fly_cg_optimization": "True"
      },
      "text/html": [
       "<pre>Group({\n",
       "  \"sphinx\": {\n",
       "    \"pawPot\": {\n",
       "      \"species\": [\n",
       "        {\n",
       "          \"name\": \"'\\\"Fe\\\"'\",\n",
       "          \"potType\": \"'\\\"AtomPAW\\\"'\",\n",
       "          \"element\": \"'\\\"Fe\\\"'\",\n",
       "          \"potential\": \"'\\\"Fe_GGA.atomicdata\\\"'\"\n",
       "        }\n",
       "      ]\n",
       "    },\n",
       "    \"structure\": {\n",
       "      \"cell\": \"array([[5.42351398, 0.        , 0.        ],\\n       [0.        , 5.42351398, 0.        ],\\n       [0.        , 0.        , 5.42351398]])\",\n",
       "      \"species\": [\n",
       "        {\n",
       "          \"element\": \"'\\\"Fe\\\"'\",\n",
       "          \"atom\": [\n",
       "            {\n",
       "              \"label\": \"'\\\"spin_0.0\\\"'\",\n",
       "              \"coords\": \"array([0., 0., 0.])\",\n",
       "              \"movable\": \"True\"\n",
       "            },\n",
       "            {\n",
       "              \"label\": \"'\\\"spin_0.0\\\"'\",\n",
       "              \"coords\": \"array([2.71175699, 2.71175699, 2.71175699])\",\n",
       "              \"movable\": \"True\"\n",
       "            }\n",
       "          ]\n",
       "        }\n",
       "      ]\n",
       "    },\n",
       "    \"basis\": {\n",
       "      \"eCut\": \"22.049593305392996\",\n",
       "      \"kPoint\": {\n",
       "        \"coords\": \"array([0.5, 0.5, 0.5])\",\n",
       "        \"weight\": \"1\",\n",
       "        \"relative\": \"True\"\n",
       "      },\n",
       "      \"folding\": \"array([9, 9, 9])\",\n",
       "      \"saveMemory\": \"True\"\n",
       "    },\n",
       "    \"PAWHamiltonian\": {\n",
       "      \"nEmptyStates\": \"5\",\n",
       "      \"ekt\": \"0.2\",\n",
       "      \"FermiDirac\": \"1\",\n",
       "      \"xc\": \"'PBE'\",\n",
       "      \"spinPolarized\": \"False\"\n",
       "    },\n",
       "    \"initialGuess\": {\n",
       "      \"waves\": {\n",
       "        \"pawBasis\": \"True\",\n",
       "        \"lcao\": []\n",
       "      },\n",
       "      \"rho\": {\n",
       "        \"atomicOrbitals\": \"True\"\n",
       "      },\n",
       "      \"noWavesStorage\": \"False\"\n",
       "    },\n",
       "    \"main\": {\n",
       "      \"ricQN\": {\n",
       "        \"maxSteps\": \"'100'\",\n",
       "        \"maxStepLength\": \"'0.18897261246257704'\",\n",
       "        \"bornOppenheimer\": {\n",
       "          \"scfDiag\": {\n",
       "            \"rhoMixing\": \"'1.0'\",\n",
       "            \"spinMixing\": \"'1.0'\",\n",
       "            \"dEnergy\": \"3.674932217565499e-06\",\n",
       "            \"maxSteps\": \"'100'\",\n",
       "            \"preconditioner\": {\n",
       "              \"type\": \"'KERKER'\",\n",
       "              \"scaling\": \"1.0\",\n",
       "              \"spinScaling\": \"1.0\"\n",
       "            },\n",
       "            \"blockCCG\": []\n",
       "          }\n",
       "        }\n",
       "      }\n",
       "    }\n",
       "  },\n",
       "  \"EnCut\": \"300\",\n",
       "  \"KpointCoords\": \"[0.5, 0.5, 0.5]\",\n",
       "  \"KpointFolding\": \"[9, 9, 9]\",\n",
       "  \"EmptyStates\": \"5\",\n",
       "  \"Sigma\": \"0.2\",\n",
       "  \"Xcorr\": \"'PBE'\",\n",
       "  \"VaspPot\": \"False\",\n",
       "  \"Estep\": \"100\",\n",
       "  \"Ediff\": \"0.0001\",\n",
       "  \"WriteWaves\": \"True\",\n",
       "  \"KJxc\": \"False\",\n",
       "  \"SaveMemory\": \"True\",\n",
       "  \"rhoMixing\": \"1.0\",\n",
       "  \"spinMixing\": \"1.0\",\n",
       "  \"rhoResidualScaling\": \"1.0\",\n",
       "  \"spinResidualScaling\": \"1.0\",\n",
       "  \"CheckOverlap\": \"True\",\n",
       "  \"THREADS\": \"1\",\n",
       "  \"use_on_the_fly_cg_optimization\": \"True\",\n",
       "  \"FermiDirac\": \"1\",\n",
       "  \"Istep\": \"100\"\n",
       "})</pre>"
      ],
      "text/plain": [
       "Group({'sphinx': Group({'pawPot': Group({'species': Group([Group({'name': '\"Fe\"', 'potType': '\"AtomPAW\"', 'element': '\"Fe\"', 'potential': '\"Fe_GGA.atomicdata\"'})])}), 'structure': Group({'cell': array([[5.42351398, 0.        , 0.        ],\n",
       "       [0.        , 5.42351398, 0.        ],\n",
       "       [0.        , 0.        , 5.42351398]]), 'species': Group([Group({'element': '\"Fe\"', 'atom': Group([Group({'label': '\"spin_0.0\"', 'coords': array([0., 0., 0.]), 'movable': True}), Group({'label': '\"spin_0.0\"', 'coords': array([2.71175699, 2.71175699, 2.71175699]), 'movable': True})])})])}), 'basis': Group({'eCut': 22.049593305392996, 'kPoint': Group({'coords': array([0.5, 0.5, 0.5]), 'weight': 1, 'relative': True}), 'folding': array([9, 9, 9]), 'saveMemory': True}), 'PAWHamiltonian': Group({'nEmptyStates': 5, 'ekt': 0.2, 'FermiDirac': 1, 'xc': 'PBE', 'spinPolarized': False}), 'initialGuess': Group({'waves': Group({'pawBasis': True, 'lcao': Group([])}), 'rho': Group({'atomicOrbitals': True}), 'noWavesStorage': False}), 'main': Group({'ricQN': Group({'maxSteps': '100', 'maxStepLength': '0.18897261246257704', 'bornOppenheimer': Group({'scfDiag': Group({'rhoMixing': '1.0', 'spinMixing': '1.0', 'dEnergy': 3.674932217565499e-06, 'maxSteps': '100', 'preconditioner': Group({'type': 'KERKER', 'scaling': 1.0, 'spinScaling': 1.0}), 'blockCCG': Group([])})})})})}), 'EnCut': 300, 'KpointCoords': [0.5, 0.5, 0.5], 'KpointFolding': [9, 9, 9], 'EmptyStates': 5, 'Sigma': 0.2, 'Xcorr': 'PBE', 'VaspPot': False, 'Estep': 100, 'Ediff': 0.0001, 'WriteWaves': True, 'KJxc': False, 'SaveMemory': True, 'rhoMixing': 1.0, 'spinMixing': 1.0, 'rhoResidualScaling': 1.0, 'spinResidualScaling': 1.0, 'CheckOverlap': True, 'THREADS': 1, 'use_on_the_fly_cg_optimization': True, 'FermiDirac': 1, 'Istep': 100})"
      ]
     },
     "execution_count": 13,
     "metadata": {},
     "output_type": "execute_result"
    }
   ],
   "source": [
    "job.input"
   ]
  },
  {
   "cell_type": "code",
   "execution_count": null,
   "metadata": {},
   "outputs": [],
   "source": []
  }
 ],
 "metadata": {
  "kernelspec": {
   "display_name": "workflow-rdf",
   "language": "python",
   "name": "python3"
  },
  "language_info": {
   "codemirror_mode": {
    "name": "ipython",
    "version": 3
   },
   "file_extension": ".py",
   "mimetype": "text/x-python",
   "name": "python",
   "nbconvert_exporter": "python",
   "pygments_lexer": "ipython3",
   "version": "3.11.8"
  }
 },
 "nbformat": 4,
 "nbformat_minor": 2
}
